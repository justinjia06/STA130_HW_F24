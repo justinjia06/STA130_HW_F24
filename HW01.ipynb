{
 "cells": [
  {
   "cell_type": "code",
   "execution_count": 2,
   "id": "5308bdbb",
   "metadata": {},
   "outputs": [],
   "source": [
    "import pandas as pd\n",
    "url = \"https://raw.githubusercontent.com/rfordatascience/tidytuesday/master/data/2020/2020-05-05/villagers.csv\"\n",
    "df = pd.read_csv(url)"
   ]
  },
  {
   "cell_type": "code",
   "execution_count": 3,
   "id": "12809e96",
   "metadata": {
    "scrolled": true
   },
   "outputs": [
    {
     "name": "stdout",
     "output_type": "stream",
     "text": [
      "The dataset has 391 rows and 11 columns.\n"
     ]
    }
   ],
   "source": [
    "num_rows, num_columns = df.shape\n",
    "print(f\"The dataset has {num_rows} rows and {num_columns} columns.\")"
   ]
  },
  {
   "cell_type": "markdown",
   "id": "2629cf5b",
   "metadata": {},
   "source": [
    "Observations vs Variables:\n",
    "\n",
    "Observations - rows, they are individual entries in the dataset\n",
    "Variables - different characteristics for the data recorded for each observation"
   ]
  },
  {
   "cell_type": "code",
   "execution_count": 4,
   "id": "8d8a2067",
   "metadata": {},
   "outputs": [
    {
     "name": "stdout",
     "output_type": "stream",
     "text": [
      "Summary of Numerical Columns:\n",
      "            row_n\n",
      "count  391.000000\n",
      "mean   239.902813\n",
      "std    140.702672\n",
      "min      2.000000\n",
      "25%    117.500000\n",
      "50%    240.000000\n",
      "75%    363.500000\n",
      "max    483.000000\n"
     ]
    }
   ],
   "source": [
    "print(\"Summary of Numerical Columns:\")\n",
    "print(df.describe())"
   ]
  },
  {
   "cell_type": "code",
   "execution_count": 5,
   "id": "bda12f48",
   "metadata": {},
   "outputs": [
    {
     "name": "stdout",
     "output_type": "stream",
     "text": [
      "\n",
      "Value Counts for 'species':\n",
      "species\n",
      "cat          23\n",
      "rabbit       20\n",
      "frog         18\n",
      "squirrel     18\n",
      "duck         17\n",
      "dog          16\n",
      "cub          16\n",
      "pig          15\n",
      "bear         15\n",
      "mouse        15\n",
      "horse        15\n",
      "bird         13\n",
      "penguin      13\n",
      "sheep        13\n",
      "elephant     11\n",
      "wolf         11\n",
      "ostrich      10\n",
      "deer         10\n",
      "eagle         9\n",
      "gorilla       9\n",
      "chicken       9\n",
      "koala         9\n",
      "goat          8\n",
      "hamster       8\n",
      "kangaroo      8\n",
      "monkey        8\n",
      "anteater      7\n",
      "hippo         7\n",
      "tiger         7\n",
      "alligator     7\n",
      "lion          7\n",
      "bull          6\n",
      "rhino         6\n",
      "cow           4\n",
      "octopus       3\n",
      "Name: count, dtype: int64\n",
      "\n",
      "Value Counts for 'gender':\n",
      "gender\n",
      "male      204\n",
      "female    187\n",
      "Name: count, dtype: int64\n",
      "\n",
      "Value Counts for 'personality':\n",
      "personality\n",
      "lazy      60\n",
      "normal    59\n",
      "cranky    55\n",
      "snooty    55\n",
      "jock      55\n",
      "peppy     49\n",
      "smug      34\n",
      "uchi      24\n",
      "Name: count, dtype: int64\n"
     ]
    }
   ],
   "source": [
    "categorical_columns = ['species', 'gender', 'personality']\n",
    "\n",
    "# Print value counts for each categorical column\n",
    "for column in categorical_columns:\n",
    "    print(f\"\\nValue Counts for '{column}':\")\n",
    "    print(df[column].value_counts())"
   ]
  },
  {
   "cell_type": "markdown",
   "id": "0f8438ff",
   "metadata": {},
   "source": [
    "Discrepancies between size of the dataset given by df.shape and what is reported by df.describe() with respect to:\n",
    "\n",
    "(a) the number of columns it analyzes\n",
    "\n",
    "df.shape -> analyzes both categorical columns and numerical columns\n",
    "df.describe() -> only analyzes numerical columns, not categorical columns\n",
    "\n",
    "(b) the values it reports in the \"count\" column\n",
    "\n",
    "df.shape -> includes all entries\n",
    "df.describe() -> doesn't include null entries, so if a column has missing values, the count will be less than the total number of rows\n"
   ]
  },
  {
   "cell_type": "markdown",
   "id": "6e54f06d",
   "metadata": {},
   "source": [
    "The difference between an attribute and a method:\n",
    "\n",
    "attribute -> They provide information about the object\n",
    "\n",
    "method -> They perform operations and computations on the object and they often return some kind of result"
   ]
  },
  {
   "cell_type": "markdown",
   "id": "140f3f4e",
   "metadata": {},
   "source": [
    "Summary of the session:\n",
    "\n",
    "Dataset Analysis\n",
    "Checking for Missing Values:\n",
    "\n",
    "To check for missing values in a dataset, use df.isna().sum() to see the number of missing values in each column.\n",
    "Understanding Dataset Size:\n",
    "\n",
    "Use df.shape to get the dimensions of the dataset, which provides the number of rows and columns.\n",
    "Summary of Columns:\n",
    "\n",
    "Use df.describe() to get statistical summaries for numerical columns, including count, mean, standard deviation, min, max, and percentiles.\n",
    "Use df['column'].value_counts() to get counts of unique values for categorical columns.\n",
    "Terminology\n",
    "Observations:\n",
    "\n",
    "Rows in the dataset; each row represents an individual entry or data point.\n",
    "Variables:\n",
    "\n",
    "Columns in the dataset; each column represents a different characteristic or attribute of the observations.\n",
    "Discrepancies Between df.shape and df.describe()\n",
    "Number of Columns Analyzed:\n",
    "\n",
    "df.shape provides the total number of columns, including both numerical and categorical.\n",
    "df.describe() by default summarizes only numerical columns. Categorical columns are not included unless specified.\n",
    "Values in the \"Count\" Column:\n",
    "\n",
    "df.shape gives the total number of rows in the dataset.\n",
    "df.describe() provides counts of non-null entries for each numerical column. If there are missing values, the count in df.describe() will be less than the total number of rows.\n",
    "Attributes vs. Methods\n",
    "Attributes:\n",
    "\n",
    "Provide direct access to data or properties of an object.\n",
    "Syntax: Accessed without parentheses (e.g., df.shape).\n",
    "Methods:\n",
    "\n",
    "Perform actions or computations and may modify the object or return results.\n",
    "Syntax: Called with parentheses (e.g., df.describe()).\n",
    "This summary covers how to analyze and interpret datasets, understand different types of dataset properties, and distinguish between attributes and methods in Python."
   ]
  },
  {
   "cell_type": "markdown",
   "id": "441c9e68",
   "metadata": {},
   "source": [
    "Definitions of the summary statistics:\n",
    "\n",
    "count -> number of non missing values in the dataset\n",
    "\n",
    "mean -> the average of the data points in a column\n",
    "\n",
    "std -> measures the amount of variation in the data\n",
    "\n",
    "min -> smallest value in the dataset for each variable\n",
    "\n",
    "25% -> first quartile in a dataset (lower range)\n",
    "\n",
    "50% -> the median, half of the data points are below this value and half are above it\n",
    "\n",
    "75% -> the third quartile in the dataset\n",
    "\n",
    "max -> the largest value in the dataset for each variable"
   ]
  },
  {
   "cell_type": "markdown",
   "id": "eda79260",
   "metadata": {},
   "source": [
    "df.dropna() might be preferred when you only want to remove   missing values\n",
    "\n",
    "del df['col'] might be preferred when you want to remove a whole column\n",
    "\n",
    "using del df['col'] before df.dropna() ensures that you are only dealing with relevant columns when handling missing values."
   ]
  },
  {
   "cell_type": "code",
   "execution_count": 6,
   "id": "7c5502fb",
   "metadata": {},
   "outputs": [],
   "source": [
    "if 'unnecessary_col' in df.columns:\n",
    "    del df['unnecessary_col']"
   ]
  },
  {
   "cell_type": "code",
   "execution_count": 7,
   "id": "f56aa2ec",
   "metadata": {},
   "outputs": [
    {
     "name": "stdout",
     "output_type": "stream",
     "text": [
      "\n",
      "Cleaned DataFrame:\n",
      "   row_n       id     name  gender    species birthday personality  \\\n",
      "0      2  admiral  Admiral    male       bird     1-27      cranky   \n",
      "1      3  agent-s  Agent S  female   squirrel      7-2       peppy   \n",
      "2      4    agnes    Agnes  female        pig     4-21        uchi   \n",
      "3      6       al       Al    male    gorilla    10-18        lazy   \n",
      "4      7  alfonso  Alfonso    male  alligator      6-9        lazy   \n",
      "\n",
      "          song    phrase           full_id  \\\n",
      "0   Steep Hill   aye aye  villager-admiral   \n",
      "1      DJ K.K.  sidekick  villager-agent-s   \n",
      "2   K.K. House   snuffle    villager-agnes   \n",
      "3   Steep Hill   Ayyeeee       villager-al   \n",
      "4  Forest Life  it'sa me  villager-alfonso   \n",
      "\n",
      "                                                 url  \n",
      "0  https://villagerdb.com/images/villagers/thumb/...  \n",
      "1  https://villagerdb.com/images/villagers/thumb/...  \n",
      "2  https://villagerdb.com/images/villagers/thumb/...  \n",
      "3  https://villagerdb.com/images/villagers/thumb/...  \n",
      "4  https://villagerdb.com/images/villagers/thumb/...  \n",
      "\n",
      "Cleaned DataFrame Info:\n",
      "<class 'pandas.core.frame.DataFrame'>\n",
      "Index: 379 entries, 0 to 390\n",
      "Data columns (total 11 columns):\n",
      " #   Column       Non-Null Count  Dtype \n",
      "---  ------       --------------  ----- \n",
      " 0   row_n        379 non-null    int64 \n",
      " 1   id           379 non-null    object\n",
      " 2   name         379 non-null    object\n",
      " 3   gender       379 non-null    object\n",
      " 4   species      379 non-null    object\n",
      " 5   birthday     379 non-null    object\n",
      " 6   personality  379 non-null    object\n",
      " 7   song         379 non-null    object\n",
      " 8   phrase       379 non-null    object\n",
      " 9   full_id      379 non-null    object\n",
      " 10  url          379 non-null    object\n",
      "dtypes: int64(1), object(10)\n",
      "memory usage: 35.5+ KB\n",
      "None\n"
     ]
    }
   ],
   "source": [
    "cleaned_df = df.dropna()\n",
    "\n",
    "print(\"\\nCleaned DataFrame:\")\n",
    "print(cleaned_df.head())\n",
    "print(\"\\nCleaned DataFrame Info:\")\n",
    "print(cleaned_df.info())"
   ]
  },
  {
   "cell_type": "markdown",
   "id": "2ff8e407",
   "metadata": {},
   "source": [
    "In this session, we discussed various data cleaning techniques using pandas, particularly focusing on the use of del df['col'] and df.dropna(). Here's a concise summary of the key points covered:\n",
    "\n",
    "Definitions of Summary Statistics:\n",
    "\n",
    "count: Number of non-null entries.\n",
    "mean: Average of the values.\n",
    "std: Standard deviation, measuring the spread of values.\n",
    "min: Minimum value.\n",
    "25%: First quartile (25th percentile).\n",
    "50%: Median or second quartile (50th percentile).\n",
    "75%: Third quartile (75th percentile).\n",
    "max: Maximum value.\n",
    "Use Case for df.dropna():\n",
    "\n",
    "Scenario: When you want to remove rows with missing data to ensure that subsequent analyses are performed on complete records. For example, if you have a DataFrame with critical columns that should not contain missing values, using df.dropna() helps clean the data by removing any rows that have incomplete information.\n",
    "Opposite Use Case for del df['col']:\n",
    "\n",
    "Scenario: When you have columns that are irrelevant or contain excessive missing values. For instance, if a column has mostly missing values and does not contribute to the analysis, removing it with del df['col'] prevents it from affecting the results of data cleaning operations like df.dropna().\n",
    "Combining del df['col'] with df.dropna():\n",
    "\n",
    "Importance of Order:\n",
    "Efficiency: Removing irrelevant columns first reduces the DataFrame size, making the subsequent df.dropna() operation faster and more efficient.\n",
    "Data Integrity: Ensures that missing values are only dealt with in the context of relevant columns, avoiding unintended removal of rows due to irrelevant data.\n",
    "Clarity: Results in a cleaner DataFrame, simplifying further analysis by focusing only on the relevant data.\n",
    "Practical Example:\n",
    "\n",
    "Dataset: Loaded a dataset from a URL and performed data cleaning.\n",
    "Steps Taken:\n",
    "Removed irrelevant columns using del df['col'].\n",
    "Used df.dropna() to drop rows with missing values.\n",
    "Justification: Improved efficiency, maintained data integrity, and provided a clearer, more manageable dataset for analysis.\n",
    "This session covered the rationale and methodology behind data cleaning techniques, emphasizing how to effectively use del df['col'] and df.dropna() to prepare data for analysis."
   ]
  },
  {
   "cell_type": "markdown",
   "id": "fa1b421c",
   "metadata": {},
   "source": [
    "df.groupby(\"col1\")[\"col2\"].describe() is used to perform group-wise summary statistics on a dataset"
   ]
  },
  {
   "cell_type": "markdown",
   "id": "f9bd915d",
   "metadata": {},
   "source": [
    "df.describe() gives an overview of missing values for the whole dataset, while df.groupby(\"col1\")[\"col2\"].describe() gives a more detailed view by considering missing values within each specific group."
   ]
  },
  {
   "cell_type": "markdown",
   "id": "131d2110",
   "metadata": {},
   "source": [
    "I think that it is easier to work with ChatGPT because it can give corrections according to context. A google search will not be able to give answers to extremely specific questions, and a google search will only provide answers if your question has been asked before."
   ]
  },
  {
   "cell_type": "markdown",
   "id": "0f6b051d",
   "metadata": {},
   "source": [
    "Yes"
   ]
  }
 ],
 "metadata": {
  "kernelspec": {
   "display_name": "Python 3 (ipykernel)",
   "language": "python",
   "name": "python3"
  },
  "language_info": {
   "codemirror_mode": {
    "name": "ipython",
    "version": 3
   },
   "file_extension": ".py",
   "mimetype": "text/x-python",
   "name": "python",
   "nbconvert_exporter": "python",
   "pygments_lexer": "ipython3",
   "version": "3.11.6"
  }
 },
 "nbformat": 4,
 "nbformat_minor": 5
}
